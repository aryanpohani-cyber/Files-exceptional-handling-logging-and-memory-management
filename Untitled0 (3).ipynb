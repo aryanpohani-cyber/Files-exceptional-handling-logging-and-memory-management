{
  "nbformat": 4,
  "nbformat_minor": 0,
  "metadata": {
    "colab": {
      "provenance": []
    },
    "kernelspec": {
      "name": "python3",
      "display_name": "Python 3"
    },
    "language_info": {
      "name": "python"
    }
  },
  "cells": [
    {
      "cell_type": "markdown",
      "source": [
        "1.  What is the difference between interpreted and compiled languages?\n",
        "- Feature\tInterpreted Languages\tCompiled Languages\n",
        "Definition\tCode is executed line by line by an interpreter.\tCode is converted entirely into machine code by a compiler before execution.\n",
        "Execution Speed\tSlower, because each line is interpreted at runtime.\tFaster, because machine code runs directly on hardware.\n",
        "Error Detection\tErrors are detected line by line during execution.\tErrors are detected before execution during compilation.\n",
        "Examples\tPython, JavaScript, Ruby\tC, C++, Go\n",
        "Portability\tMore portable; same code runs on any platform with an interpreter.\tLess portable; compiled code is platform-specific.\n",
        "Debugging\tEasier to debug, because errors are reported immediately.\tHarder to debug, as errors appear after compilation.\n",
        "\n",
        "2. What is exception handling in Python?\n",
        " - Exception handling is a mechanism in Python to handle runtime errors (exceptions) gracefully without stopping the program abruptly.\n",
        "An exception is an error that occurs during program execution.\n",
        "Using exception handling, you can catch errors, respond to them, and continue program execution.\n",
        "\n",
        "3. What is the purpose of the finally block in exception handling?\n",
        " - The finally block in Python is part of exception handling and is used to execute code that must run no matter what, whether an exception occurs or not.\n",
        "\n",
        "4. What is logging in Python?\n",
        " - Logging in Python\n",
        "\n",
        "Logging is the process of recording messages about a program’s execution so that developers can monitor, debug, and analyze the behavior of the program.\n",
        "Instead of using print() statements for debugging, logging provides more flexibility and control.\n",
        "Python has a built-in module called logging to handle logging.\n",
        "\n",
        "5. What is the significance of the __del__ method in Python?\n",
        " - The __del__ Method in Python\n",
        "\n",
        "The __del__ method in Python is a special method (destructor) that is called when an object is about to be destroyed.\n",
        "\n",
        "It is used to perform cleanup activities, such as releasing resources or closing files, before the object is removed from memory.\n",
        "\n",
        "Python automatically calls __del__ when an object’s reference count drops to zero.\n",
        "\n",
        "6. What is the difference between import and from ... import in Python?\n",
        " - import Statement\n",
        "\n",
        "The import statement is used to import an entire module.\n",
        "You access functions, classes, or variables using the module name as a prefix.\n",
        "\n",
        "7.  How can you handle multiple exceptions in Python?\n",
        " - 1. Handling Multiple Exceptions in a Single Except Block\n",
        "\n",
        "You can catch multiple exceptions together by specifying them as a tuple:\n",
        "\n",
        "8. What is the purpose of the with statement when handling files in Python?\n",
        " - The with Statement in Python\n",
        "The with statement is used to simplify file handling and ensure proper resource management.\n",
        "It automatically opens and closes a file, even if an exception occurs.\n",
        "Avoids the need to explicitly call file.close().\n",
        "\n",
        "Purpose\n",
        "Automatic resource management – ensures the file is closed properly.\n",
        "Cleaner and safer code – reduces errors like forgetting to close a file.\n",
        "Works with any object that supports the context management protocol (like files, locks, etc.)\n",
        "\n",
        "9. What is the difference between multithreading and multiprocessing?\n",
        " - Feature\tMultithreading\tMultiprocessing\n",
        "Definition\tMultiple threads run concurrently within a single process.\tMultiple processes run concurrently.\n",
        "Memory Space\tThreads share the same memory space of the process.\tEach process has its own memory space.\n",
        "CPU Bound vs I/O Bound\tGood for I/O-bound tasks (waiting for input/output).\tGood for CPU-bound tasks (heavy computation).\n",
        "Overhead\tLow overhead, faster to create threads.\tHigher overhead, slower to create processes.\n",
        "Communication\tEasy, because threads share memory.\tHarder, requires IPC (Inter-Process Communication).\n",
        "GIL in Python\tAffects CPU-bound threads due to Global Interpreter Lock (GIL).\tNot affected by GIL; true parallel execution possible.\n",
        "Examples\tWeb scraping, network operations.\tImage processing, data analysis, scientific computing.\n",
        "\n",
        "10. What are the advantages of using logging in a program?\n",
        " - Debugging Made Easier\n",
        "\n",
        "Logs provide detailed information about program execution.\n",
        "\n",
        "Helps identify errors and understand program flow without using print() statements.\n",
        "Keeps Permanent Records\n",
        "Logs can be written to files, allowing developers to review past events.\n",
        "Useful for auditing and analyzing program behavior over time.\n",
        "Supports Different Severity Levels\n",
        "Python logging has DEBUG, INFO, WARNING, ERROR, CRITICAL levels.\n",
        "Enables filtering messages based on importance.\n",
        "Better than Print Statements\n",
        "More structured and configurable.\n",
        "Can log to console, files, or both with formatting.\n",
        "Does not require modifying code to remove debugging messages in production.\n",
        "Monitors Production Programs\n",
        "\n",
        "Logging allows tracking runtime issues in production without stopping the program.\n",
        "Can alert developers to problems in live systems.\n",
        "Configurable and Flexible\n",
        "Logging can be customized for format, destination, and severity.\n",
        "Can integrate with monitoring tools and alert systems.\n",
        "Helps in Troubleshooting Multi-threaded/Complex Programs\n",
        "Logs can track events across threads and modules, helping debug complex applications."
      ],
      "metadata": {
        "id": "GmA08cZNfINu"
      }
    },
    {
      "cell_type": "code",
      "source": [
        "#1. How can you open a file for writing in Python and write a string to it?\n",
        " # Open a file in write mode (\"w\")\n",
        "file = open(\"example.txt\", \"w\")\n",
        "\n",
        "# Write a string to the file\n",
        "file.write(\"Hello, Python!\\nThis is a new line.\")\n",
        "\n",
        "# Close the file to save changes\n",
        "file.close()"
      ],
      "metadata": {
        "id": "AZQUGaYJhyYl"
      },
      "execution_count": 1,
      "outputs": []
    },
    {
      "cell_type": "code",
      "source": [
        "#2. Write a Python program to read the contents of a file and print each line.\n",
        " # Open the file in read mode\n",
        "with open(\"example.txt\", \"r\") as file:\n",
        "    # Read each line one by one\n",
        "    for line in file:\n",
        "        print(line.strip())  # strip() removes extra newline characters"
      ],
      "metadata": {
        "colab": {
          "base_uri": "https://localhost:8080/"
        },
        "id": "CV_a2TUfh-Dk",
        "outputId": "5a83fdc8-2305-4c9a-a723-5f2322dd9559"
      },
      "execution_count": 2,
      "outputs": [
        {
          "output_type": "stream",
          "name": "stdout",
          "text": [
            "Hello, Python!\n",
            "This is a new line.\n"
          ]
        }
      ]
    },
    {
      "cell_type": "code",
      "source": [
        "#3. How would you handle a case where the file doesn't exist while trying to open it for reading.\n",
        "\n",
        "try:\n",
        "    with open(\"example.txt\", \"r\") as file:\n",
        "        for line in file:\n",
        "            print(line.strip())\n",
        "except FileNotFoundError:\n",
        "    print(\"Error: The file does not exist.\")"
      ],
      "metadata": {
        "colab": {
          "base_uri": "https://localhost:8080/"
        },
        "id": "RVK-ILoFiJVf",
        "outputId": "9f479491-c353-4359-a7c1-5c78b292177a"
      },
      "execution_count": 4,
      "outputs": [
        {
          "output_type": "stream",
          "name": "stdout",
          "text": [
            "Hello, Python!\n",
            "This is a new line.\n"
          ]
        }
      ]
    },
    {
      "cell_type": "code",
      "source": [
        "#4 Write a Python script that reads from one file and writes its content to another fileF.\n",
        "source_file = \"source.txt\"\n",
        "destination_file = \"destination.txt\"\n",
        "\n",
        "try:\n",
        "    # Open the source file for reading\n",
        "    with open(source_file, \"r\") as src:\n",
        "        content = src.read()  # Read entire content\n",
        "\n",
        "    # Open the destination file for writing\n",
        "    with open(destination_file, \"w\") as dest:\n",
        "        dest.write(content)  # Write content to the new file\n",
        "\n",
        "    print(f\"Content copied from {source_file} to {destination_file} successfully!\")\n",
        "\n",
        "except FileNotFoundError:\n",
        "    print(f\"Error: {source_file} does not exist.\")\n",
        "except Exception as e:\n",
        "    print(f\"An error occurred: {e}\")"
      ],
      "metadata": {
        "colab": {
          "base_uri": "https://localhost:8080/"
        },
        "id": "wB95sm1GiS_w",
        "outputId": "fefa0d44-294e-4b2c-9de7-be95917f8e03"
      },
      "execution_count": 6,
      "outputs": [
        {
          "output_type": "stream",
          "name": "stdout",
          "text": [
            "Error: source.txt does not exist.\n"
          ]
        }
      ]
    },
    {
      "cell_type": "code",
      "source": [
        "#5.  How would you catch and handle division by zero error in Python?\n",
        "try:\n",
        "    numerator = int(input(\"Enter numerator: \"))\n",
        "    denominator = int(input(\"Enter denominator: \"))\n",
        "    result = numerator / denominator\n",
        "except ZeroDivisionError:\n",
        "    print(\"Error: Division by zero is not allowed!\")\n",
        "else:\n",
        "    print(f\"Result = {result}\")"
      ],
      "metadata": {
        "colab": {
          "base_uri": "https://localhost:8080/"
        },
        "id": "L7muj2Suih9m",
        "outputId": "945c6eb0-dfea-4ca5-ed0b-2455f844764f"
      },
      "execution_count": 7,
      "outputs": [
        {
          "output_type": "stream",
          "name": "stdout",
          "text": [
            "Enter numerator: 5\n",
            "Enter denominator: 7\n",
            "Result = 0.7142857142857143\n"
          ]
        }
      ]
    },
    {
      "cell_type": "code",
      "source": [
        "#6. Write a Python program that logs an error message to a log file when a division by zero exception occursF\n",
        "import logging\n",
        "\n",
        "# Configure logging\n",
        "logging.basicConfig(filename='error.log',\n",
        "                    level=logging.ERROR,\n",
        "                    format='%(asctime)s - %(levelname)s - %(message)s')\n",
        "\n",
        "try:\n",
        "    numerator = int(input(\"Enter numerator: \"))\n",
        "    denominator = int(input(\"Enter denominator: \"))\n",
        "    result = numerator / denominator\n",
        "except ZeroDivisionError as e:\n",
        "    print(\"Error: Division by zero is not allowed!\")\n",
        "    logging.error(f\"Division by zero error: numerator={numerator}, denominator={denominator}\")\n",
        "else:\n",
        "    print(f\"Result = {result}\")"
      ],
      "metadata": {
        "colab": {
          "base_uri": "https://localhost:8080/"
        },
        "id": "v3ttU8PdjHTK",
        "outputId": "94b86cd3-ca9c-41a4-97c7-9270ce398595"
      },
      "execution_count": 8,
      "outputs": [
        {
          "output_type": "stream",
          "name": "stdout",
          "text": [
            "Enter numerator: 7\n",
            "Enter denominator: 6\n",
            "Result = 1.1666666666666667\n"
          ]
        }
      ]
    },
    {
      "cell_type": "code",
      "source": [],
      "metadata": {
        "id": "LMCPpcJSjTon"
      },
      "execution_count": null,
      "outputs": []
    }
  ]
}